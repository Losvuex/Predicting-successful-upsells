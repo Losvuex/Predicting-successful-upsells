{
  "nbformat": 4,
  "nbformat_minor": 0,
  "metadata": {
    "colab": {
      "provenance": []
    },
    "kernelspec": {
      "name": "python3",
      "display_name": "Python 3"
    },
    "language_info": {
      "name": "python"
    }
  },
  "cells": [
    {
      "cell_type": "markdown",
      "source": [
        "# Import modules to preprocess data and make models.\n"
      ],
      "metadata": {
        "id": "Zmx7uFKZTWhA"
      }
    },
    {
      "cell_type": "code",
      "execution_count": 1,
      "metadata": {
        "id": "oLTsHWonTKsA",
        "colab": {
          "base_uri": "https://localhost:8080/"
        },
        "outputId": "e264c4ad-f039-4b2f-e4e9-3aeeae21664f"
      },
      "outputs": [
        {
          "output_type": "stream",
          "name": "stdout",
          "text": [
            "Requirement already satisfied: catboost in /usr/local/lib/python3.10/dist-packages (1.2.2)\n",
            "Requirement already satisfied: graphviz in /usr/local/lib/python3.10/dist-packages (from catboost) (0.20.1)\n",
            "Requirement already satisfied: matplotlib in /usr/local/lib/python3.10/dist-packages (from catboost) (3.7.1)\n",
            "Requirement already satisfied: numpy>=1.16.0 in /usr/local/lib/python3.10/dist-packages (from catboost) (1.23.5)\n",
            "Requirement already satisfied: pandas>=0.24 in /usr/local/lib/python3.10/dist-packages (from catboost) (1.5.3)\n",
            "Requirement already satisfied: scipy in /usr/local/lib/python3.10/dist-packages (from catboost) (1.11.2)\n",
            "Requirement already satisfied: plotly in /usr/local/lib/python3.10/dist-packages (from catboost) (5.15.0)\n",
            "Requirement already satisfied: six in /usr/local/lib/python3.10/dist-packages (from catboost) (1.16.0)\n",
            "Requirement already satisfied: python-dateutil>=2.8.1 in /usr/local/lib/python3.10/dist-packages (from pandas>=0.24->catboost) (2.8.2)\n",
            "Requirement already satisfied: pytz>=2020.1 in /usr/local/lib/python3.10/dist-packages (from pandas>=0.24->catboost) (2023.3.post1)\n",
            "Requirement already satisfied: contourpy>=1.0.1 in /usr/local/lib/python3.10/dist-packages (from matplotlib->catboost) (1.1.0)\n",
            "Requirement already satisfied: cycler>=0.10 in /usr/local/lib/python3.10/dist-packages (from matplotlib->catboost) (0.11.0)\n",
            "Requirement already satisfied: fonttools>=4.22.0 in /usr/local/lib/python3.10/dist-packages (from matplotlib->catboost) (4.42.1)\n",
            "Requirement already satisfied: kiwisolver>=1.0.1 in /usr/local/lib/python3.10/dist-packages (from matplotlib->catboost) (1.4.5)\n",
            "Requirement already satisfied: packaging>=20.0 in /usr/local/lib/python3.10/dist-packages (from matplotlib->catboost) (23.1)\n",
            "Requirement already satisfied: pillow>=6.2.0 in /usr/local/lib/python3.10/dist-packages (from matplotlib->catboost) (9.4.0)\n",
            "Requirement already satisfied: pyparsing>=2.3.1 in /usr/local/lib/python3.10/dist-packages (from matplotlib->catboost) (3.1.1)\n",
            "Requirement already satisfied: tenacity>=6.2.0 in /usr/local/lib/python3.10/dist-packages (from plotly->catboost) (8.2.3)\n"
          ]
        }
      ],
      "source": [
        "# install catboost to use CatboostClassifier and Tokenizer\n",
        "!pip install catboost\n",
        "\n",
        "# modules to transform the data\n",
        "import pandas as pd\n",
        "import numpy as np\n",
        "import tensorflow as tf\n",
        "\n",
        "# special parts to prepare text data\n",
        "from sklearn.feature_extraction.text import CountVectorizer\n",
        "from catboost.text_processing import Tokenizer\n",
        "\n",
        "# to split data and score the model\n",
        "from sklearn.model_selection import train_test_split\n",
        "from sklearn.metrics import accuracy_score\n",
        "\n",
        "# models\n",
        "from sklearn.linear_model import LogisticRegression\n",
        "from catboost import Pool, CatBoostClassifier\n",
        "from tensorflow.keras import Sequential"
      ]
    },
    {
      "cell_type": "markdown",
      "source": [
        "# Read dataset and prepare it"
      ],
      "metadata": {
        "id": "5nnyYXQBwtQe"
      }
    },
    {
      "cell_type": "code",
      "source": [
        "# read from github\n",
        "url = 'https://raw.githubusercontent.com/Losvuex/Predicting-successful-upsells/main/data.csv'\n",
        "cdf = pd.read_csv(url)\n",
        "\n",
        "# leave onlly lines with text\n",
        "cdf = cdf[cdf['Диалог'] == cdf['Диалог']]\n",
        "cdf=cdf.reset_index()\n",
        "\n",
        "# rename to easy usage\n",
        "cdf = cdf.rename(columns={'Диалог': 'dialogue', 'Допродажи': 't', 'Успех допродажи': 'st'})\n",
        "\n",
        "\n",
        "# transform class's columns to int type\n",
        "cdf.t = pd.Categorical(cdf.t)\n",
        "cdf['t'] = cdf.t.cat.codes\n",
        "cdf.st = pd.Categorical(cdf.st)\n",
        "cdf['st'] = cdf.st.cat.codes\n",
        "\n",
        "# make terms columns and code classes\n",
        "cdf['terms']=[list(['t' if a == 0 else 'Nan','st' if b == 0 else 'Nan']) for a,b in zip(cdf.t,cdf.st)]\n",
        "cdf = cdf.drop(columns=['t', 'st'])\n",
        "cdf['terms'] = cdf['terms'].apply(\n",
        "    lambda row: [len(val) for val in row if val != 'Nan']\n",
        ")\n",
        "cdf['terms'] = cdf['terms'].apply(\n",
        "    lambda row: len(row)\n",
        ")\n",
        "# 0 = no upsells\n",
        "# 1 = try to make upsell\n",
        "# 2 = successful try"
      ],
      "metadata": {
        "id": "eFuu69u5UHo-"
      },
      "execution_count": 2,
      "outputs": []
    },
    {
      "cell_type": "code",
      "source": [
        "# make vector from dialogue, use ngrams\n",
        "vectorizerCount = CountVectorizer(analyzer='word', ngram_range = (6, 6), token_pattern=None,\n",
        "                                  tokenizer=Tokenizer(separator_type='BySense',token_types=['Word']).tokenize)\n",
        "allDataVectorized = pd.DataFrame(vectorizerCount.fit_transform(cdf['dialogue']).todense())\n",
        "\n",
        "# leave only ngrams with often appearence\n",
        "indexMore = next(x for x, val in enumerate(allDataVectorized.sum(axis=0).sort_values()) if val > 3)\n",
        "index_new = allDataVectorized.sum(axis=0).sort_values()[indexMore:].index\n",
        "dfFrequent = allDataVectorized[index_new]\n",
        "\n",
        "# add vector to data\n",
        "cdf_vec = pd.concat([cdf,dfFrequent], axis=1)\n",
        "cdf_vec.columns = cdf_vec.columns.astype(str)"
      ],
      "metadata": {
        "id": "sDd5nysfYGZV"
      },
      "execution_count": 3,
      "outputs": []
    },
    {
      "cell_type": "code",
      "source": [
        "#split to train and test data\n",
        "test_split = 0.2\n",
        "\n",
        "train_vec, test_vec = train_test_split(\n",
        "    cdf_vec,\n",
        "    test_size=test_split,\n",
        "    stratify=cdf_vec[\"terms\"].values,\n",
        ")\n",
        "\n",
        "X_train = train_vec.drop(['terms', 'dialogue'], axis=1)\n",
        "X_test = test_vec.drop(['terms', 'dialogue'], axis=1)\n",
        "y_train = train_vec['terms']\n",
        "y_test = test_vec['terms']"
      ],
      "metadata": {
        "id": "unU__Bw152K6"
      },
      "execution_count": 4,
      "outputs": []
    },
    {
      "cell_type": "markdown",
      "source": [
        "# Fit and predict"
      ],
      "metadata": {
        "id": "TzzFZTcaznRj"
      }
    },
    {
      "cell_type": "code",
      "source": [
        "clf = LogisticRegression(max_iter = 10000, random_state = 0).fit(X_train, y_train)\n",
        "pred = clf.predict(X_test)\n",
        "lr_score = accuracy_score(y_test, pred)"
      ],
      "metadata": {
        "id": "qWvxlR1-u2VM"
      },
      "execution_count": 5,
      "outputs": []
    },
    {
      "cell_type": "code",
      "source": [
        "train_pool = Pool(data = X_train, label = y_train)\n",
        "test_pool = Pool(data = X_test, label = y_test)\n",
        "\n",
        "model = CatBoostClassifier(iterations = 100, eval_metric = 'Accuracy', depth = 5, random_seed = 42)\n",
        "res = model.fit(train_pool, eval_set = test_pool, verbose = 0)\n",
        "cc_score = res.best_score_['validation']['Accuracy']"
      ],
      "metadata": {
        "id": "EZPMr22QLOze"
      },
      "execution_count": 6,
      "outputs": []
    },
    {
      "cell_type": "code",
      "source": [
        "# divide class column to 0-1 columns\n",
        "v = tf.keras.utils.to_categorical(cdf_vec['terms'], num_classes=3)\n",
        "cdf_vec['n'] = v[:,0]\n",
        "cdf_vec['t'] = v[:,1]\n",
        "cdf_vec['st'] = v[:,2]\n",
        "\n",
        "train_vec, test_vec = train_test_split(\n",
        "    cdf_vec,\n",
        "    test_size=test_split,\n",
        "    stratify=cdf_vec[\"terms\"].values,\n",
        ")\n",
        "\n",
        "X_train = train_vec.drop(['terms', 'dialogue', 'n', 't', 'st'], axis=1)\n",
        "X_test = test_vec.drop(['terms', 'dialogue', 'n', 't', 'st'], axis=1)\n",
        "y_train = train_vec[['n', 't', 'st']]\n",
        "y_test = test_vec[['n', 't', 'st']]\n",
        "\n",
        "model = Sequential()\n",
        "model.add(tf.keras.layers.Dense(10, input_dim=X_train.shape[1], activation='relu'))\n",
        "model.add(tf.keras.layers.Dense(10, activation=\"relu\"))\n",
        "model.add(tf.keras.layers.Dense(3, activation=\"sigmoid\"))\n",
        "\n",
        "model.compile(loss=\"binary_crossentropy\", optimizer= \"adam\", metrics=['accuracy'])\n",
        "\n",
        "model.fit(X_train, y_train, epochs = 10, verbose = 0)\n",
        "\n",
        "_, ks_score = model.evaluate(X_test, y_test, verbose = 0)"
      ],
      "metadata": {
        "id": "xF8o38DcVgg6"
      },
      "execution_count": 7,
      "outputs": []
    },
    {
      "cell_type": "markdown",
      "source": [
        "# Score of models"
      ],
      "metadata": {
        "id": "6bqvlztfzrYR"
      }
    },
    {
      "cell_type": "code",
      "source": [
        "print(f\"sklearn.linear_model.LogisticRegression: {round(lr_score * 100, 2)}%.\")\n",
        "print(f\"Catboost.CatBoostClassifier: {round(cc_score * 100, 2)}%.\")\n",
        "print(f\"Keras.Sequential: {round(ks_score * 100, 2)}%.\")\n",
        "\n",
        "#  we use accuracy, it is not the best metric to this case due to different factors"
      ],
      "metadata": {
        "colab": {
          "base_uri": "https://localhost:8080/"
        },
        "id": "zK5aQLf1gjuB",
        "outputId": "b8795880-0dc7-4aa6-a0f1-e47fc8a9fe2f"
      },
      "execution_count": 8,
      "outputs": [
        {
          "output_type": "stream",
          "name": "stdout",
          "text": [
            "sklearn.linear_model.LogisticRegression: 65.88%.\n",
            "Catboost.CatBoostClassifier: 67.06%.\n",
            "Keras.Sequential: 62.35%.\n"
          ]
        }
      ]
    }
  ]
}